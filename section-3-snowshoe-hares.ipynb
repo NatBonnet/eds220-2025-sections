{
 "cells": [
  {
   "cell_type": "markdown",
   "id": "e4f02a3e-295a-4dbd-a1a2-3ddf19ba7c2c",
   "metadata": {},
   "source": [
    "# Snowshoe hare physical data in Bonanza Creek Experimental Forest: 1999-Present\n",
    "\n",
    "Citation for publication:\n",
    "\n",
    "Kielland, K., F.S. Chapin, R.W. Ruess, and Bonanza Creek LTER. 2017. Snowshoe hare physical data in Bonanza Creek Experimental Forest: 1999-Present ver 22. Environmental Data Initiative. https://doi.org/10.6073/pasta/03dce4856d79b91557d8e6ce2cbcdc14 (Accessed 2025-10-17).\n",
    "\n",
    "## Data Description\n",
    "Using capture-recapture studies of snowshoe hares to study population dynamics from 1999-2017\n",
    "\n",
    "Date of access: 10/16/2025\n",
    "\n",
    "archive: https://edirepository.org/\n",
    "\n",
    "![Snowshoe Hare (cute)](https://upload.wikimedia.org/wikipedia/commons/thumb/8/8a/SNOWSHOE_HARE_%28Lepus_americanus%29_%285-28-2015%29_quoddy_head%2C_washington_co%2C_maine_-01_%2818988734889%29.jpg/1089px-SNOWSHOE_HARE_%28Lepus_americanus%29_%285-28-2015%29_quoddy_head%2C_washington_co%2C_maine_-01_%2818988734889%29.jpg?20170313021652)\n",
    "Copyright: Publicly available under Creative Commons CC0 1.0 Public Domain\n",
    "\n",
    "ALAN SCHMIERER, Set 72157600401137773, ID 18988734889, Original title SNOWSHOE HARE (Lepus americanus) (5-28-2015) quoddy head, washington co, maine -01\n"
   ]
  },
  {
   "cell_type": "code",
   "execution_count": 2,
   "id": "85e1727b-a6b7-46a5-8d97-61db7ac06201",
   "metadata": {
    "tags": []
   },
   "outputs": [],
   "source": [
    "# Import libraries\n",
    "import pandas as pd\n",
    "import numpy as np"
   ]
  },
  {
   "cell_type": "code",
   "execution_count": 3,
   "id": "bfd0b856-97ef-4c83-b1dd-e0a44f123234",
   "metadata": {
    "tags": []
   },
   "outputs": [
    {
     "data": {
      "text/html": [
       "<div>\n",
       "<style scoped>\n",
       "    .dataframe tbody tr th:only-of-type {\n",
       "        vertical-align: middle;\n",
       "    }\n",
       "\n",
       "    .dataframe tbody tr th {\n",
       "        vertical-align: top;\n",
       "    }\n",
       "\n",
       "    .dataframe thead th {\n",
       "        text-align: right;\n",
       "    }\n",
       "</style>\n",
       "<table border=\"1\" class=\"dataframe\">\n",
       "  <thead>\n",
       "    <tr style=\"text-align: right;\">\n",
       "      <th></th>\n",
       "      <th>date</th>\n",
       "      <th>time</th>\n",
       "      <th>grid</th>\n",
       "      <th>trap</th>\n",
       "      <th>l_ear</th>\n",
       "      <th>r_ear</th>\n",
       "      <th>sex</th>\n",
       "      <th>age</th>\n",
       "      <th>weight</th>\n",
       "      <th>hindft</th>\n",
       "      <th>notes</th>\n",
       "      <th>b_key</th>\n",
       "      <th>session_id</th>\n",
       "      <th>study</th>\n",
       "    </tr>\n",
       "  </thead>\n",
       "  <tbody>\n",
       "    <tr>\n",
       "      <th>0</th>\n",
       "      <td>11/26/1998</td>\n",
       "      <td>NaN</td>\n",
       "      <td>bonrip</td>\n",
       "      <td>1A</td>\n",
       "      <td>414D096A08</td>\n",
       "      <td>NaN</td>\n",
       "      <td>NaN</td>\n",
       "      <td>NaN</td>\n",
       "      <td>1370.0</td>\n",
       "      <td>160.0</td>\n",
       "      <td>NaN</td>\n",
       "      <td>917.0</td>\n",
       "      <td>51</td>\n",
       "      <td>Population</td>\n",
       "    </tr>\n",
       "    <tr>\n",
       "      <th>1</th>\n",
       "      <td>11/26/1998</td>\n",
       "      <td>NaN</td>\n",
       "      <td>bonrip</td>\n",
       "      <td>2C</td>\n",
       "      <td>414D320671</td>\n",
       "      <td>NaN</td>\n",
       "      <td>M</td>\n",
       "      <td>NaN</td>\n",
       "      <td>1430.0</td>\n",
       "      <td>NaN</td>\n",
       "      <td>NaN</td>\n",
       "      <td>936.0</td>\n",
       "      <td>51</td>\n",
       "      <td>Population</td>\n",
       "    </tr>\n",
       "    <tr>\n",
       "      <th>2</th>\n",
       "      <td>11/26/1998</td>\n",
       "      <td>NaN</td>\n",
       "      <td>bonrip</td>\n",
       "      <td>2D</td>\n",
       "      <td>414D103E3A</td>\n",
       "      <td>NaN</td>\n",
       "      <td>M</td>\n",
       "      <td>NaN</td>\n",
       "      <td>1430.0</td>\n",
       "      <td>NaN</td>\n",
       "      <td>NaN</td>\n",
       "      <td>921.0</td>\n",
       "      <td>51</td>\n",
       "      <td>Population</td>\n",
       "    </tr>\n",
       "    <tr>\n",
       "      <th>3</th>\n",
       "      <td>11/26/1998</td>\n",
       "      <td>NaN</td>\n",
       "      <td>bonrip</td>\n",
       "      <td>2E</td>\n",
       "      <td>414D262D43</td>\n",
       "      <td>NaN</td>\n",
       "      <td>NaN</td>\n",
       "      <td>NaN</td>\n",
       "      <td>1490.0</td>\n",
       "      <td>135.0</td>\n",
       "      <td>NaN</td>\n",
       "      <td>931.0</td>\n",
       "      <td>51</td>\n",
       "      <td>Population</td>\n",
       "    </tr>\n",
       "    <tr>\n",
       "      <th>4</th>\n",
       "      <td>11/26/1998</td>\n",
       "      <td>NaN</td>\n",
       "      <td>bonrip</td>\n",
       "      <td>3B</td>\n",
       "      <td>414D2B4B58</td>\n",
       "      <td>NaN</td>\n",
       "      <td>NaN</td>\n",
       "      <td>NaN</td>\n",
       "      <td>1710.0</td>\n",
       "      <td>150.0</td>\n",
       "      <td>NaN</td>\n",
       "      <td>933.0</td>\n",
       "      <td>51</td>\n",
       "      <td>Population</td>\n",
       "    </tr>\n",
       "  </tbody>\n",
       "</table>\n",
       "</div>"
      ],
      "text/plain": [
       "         date time    grid trap       l_ear r_ear  sex  age  weight  hindft  \\\n",
       "0  11/26/1998  NaN  bonrip   1A  414D096A08   NaN  NaN  NaN  1370.0   160.0   \n",
       "1  11/26/1998  NaN  bonrip   2C  414D320671   NaN    M  NaN  1430.0     NaN   \n",
       "2  11/26/1998  NaN  bonrip   2D  414D103E3A   NaN    M  NaN  1430.0     NaN   \n",
       "3  11/26/1998  NaN  bonrip   2E  414D262D43   NaN  NaN  NaN  1490.0   135.0   \n",
       "4  11/26/1998  NaN  bonrip   3B  414D2B4B58   NaN  NaN  NaN  1710.0   150.0   \n",
       "\n",
       "  notes  b_key  session_id       study  \n",
       "0   NaN  917.0          51  Population  \n",
       "1   NaN  936.0          51  Population  \n",
       "2   NaN  921.0          51  Population  \n",
       "3   NaN  931.0          51  Population  \n",
       "4   NaN  933.0          51  Population  "
      ]
     },
     "execution_count": 3,
     "metadata": {},
     "output_type": "execute_result"
    }
   ],
   "source": [
    "# Read in hares data\n",
    "hares = pd.read_csv(\"https://pasta.lternet.edu/package/data/eml/knb-lter-bnz/55/22/f01f5d71be949b8c700b6ecd1c42c701\")\n",
    "\n",
    "# Look at head of df\n",
    "hares.head()"
   ]
  },
  {
   "cell_type": "code",
   "execution_count": 4,
   "id": "c1ae35a0-03d3-491a-bfd1-f6b510a3dea9",
   "metadata": {
    "tags": []
   },
   "outputs": [
    {
     "data": {
      "text/plain": [
       "date           object\n",
       "time           object\n",
       "grid           object\n",
       "trap           object\n",
       "l_ear          object\n",
       "r_ear          object\n",
       "sex            object\n",
       "age            object\n",
       "weight        float64\n",
       "hindft        float64\n",
       "notes          object\n",
       "b_key         float64\n",
       "session_id      int64\n",
       "study          object\n",
       "dtype: object"
      ]
     },
     "execution_count": 4,
     "metadata": {},
     "output_type": "execute_result"
    }
   ],
   "source": [
    "hares.dtypes"
   ]
  },
  {
   "cell_type": "code",
   "execution_count": 5,
   "id": "08d865c8-d7df-42a8-8205-b8cf85fb63fc",
   "metadata": {
    "tags": []
   },
   "outputs": [
    {
     "data": {
      "text/plain": [
       "Index(['date', 'time', 'grid', 'trap', 'l_ear', 'r_ear', 'sex', 'age',\n",
       "       'weight', 'hindft', 'notes', 'b_key', 'session_id', 'study'],\n",
       "      dtype='object')"
      ]
     },
     "execution_count": 5,
     "metadata": {},
     "output_type": "execute_result"
    }
   ],
   "source": [
    "hares.columns"
   ]
  },
  {
   "cell_type": "code",
   "execution_count": 7,
   "id": "903df6c4-9c9f-4abe-ae66-a789e29184a0",
   "metadata": {
    "tags": []
   },
   "outputs": [
    {
     "data": {
      "text/plain": [
       "(3380, 14)"
      ]
     },
     "execution_count": 7,
     "metadata": {},
     "output_type": "execute_result"
    }
   ],
   "source": [
    "hares.shape"
   ]
  },
  {
   "cell_type": "code",
   "execution_count": 8,
   "id": "f0e929db-e674-462f-99e0-19a8a4ffeb5e",
   "metadata": {
    "tags": []
   },
   "outputs": [
    {
     "data": {
      "text/plain": [
       "<bound method Series.unique of 0        1A\n",
       "1        2C\n",
       "2        2D\n",
       "3        2E\n",
       "4        3B\n",
       "       ... \n",
       "3375    1b \n",
       "3376    4b \n",
       "3377     4b\n",
       "3378     6d\n",
       "3379     4b\n",
       "Name: trap, Length: 3380, dtype: object>"
      ]
     },
     "execution_count": 8,
     "metadata": {},
     "output_type": "execute_result"
    }
   ],
   "source": [
    "hares.trap.unique"
   ]
  },
  {
   "cell_type": "code",
   "execution_count": 10,
   "id": "2b39563d-dbd8-4b15-bcbf-0daf7b575314",
   "metadata": {
    "tags": []
   },
   "outputs": [
    {
     "data": {
      "text/plain": [
       "date             0\n",
       "time          3116\n",
       "grid             0\n",
       "trap            12\n",
       "l_ear           48\n",
       "r_ear          169\n",
       "sex            352\n",
       "age           2111\n",
       "weight         535\n",
       "hindft        1747\n",
       "notes         3137\n",
       "b_key           47\n",
       "session_id       0\n",
       "study          163\n",
       "dtype: int64"
      ]
     },
     "execution_count": 10,
     "metadata": {},
     "output_type": "execute_result"
    }
   ],
   "source": [
    "hares.isna().sum()"
   ]
  },
  {
   "cell_type": "code",
   "execution_count": 5,
   "id": "9d58b654-5ddb-4e17-907f-263a207f910e",
   "metadata": {},
   "outputs": [
    {
     "data": {
      "text/plain": [
       "2365.0"
      ]
     },
     "execution_count": 5,
     "metadata": {},
     "output_type": "execute_result"
    }
   ],
   "source": [
    "# Check maximum weight value\n",
    "hares[\"weight\"].max()"
   ]
  },
  {
   "cell_type": "code",
   "execution_count": 6,
   "id": "f0ab8af8-ee4b-4751-9a51-3473147795de",
   "metadata": {
    "tags": []
   },
   "outputs": [
    {
     "data": {
      "text/plain": [
       "0.0"
      ]
     },
     "execution_count": 6,
     "metadata": {},
     "output_type": "execute_result"
    }
   ],
   "source": [
    "# Check minimum weight\n",
    "hares[\"weight\"].min()"
   ]
  },
  {
   "cell_type": "code",
   "execution_count": 7,
   "id": "412056ee-ad77-4ff1-be06-09adfc0dce1b",
   "metadata": {
    "tags": []
   },
   "outputs": [
    {
     "data": {
      "text/plain": [
       "60.0"
      ]
     },
     "execution_count": 7,
     "metadata": {},
     "output_type": "execute_result"
    }
   ],
   "source": [
    "# Check the minimum hind foot measurement\n",
    "hares[\"hindft\"].min()"
   ]
  },
  {
   "cell_type": "code",
   "execution_count": 8,
   "id": "d6939b4d-f709-4503-916b-1f01f7189267",
   "metadata": {
    "tags": []
   },
   "outputs": [
    {
     "data": {
      "text/plain": [
       "160.0"
      ]
     },
     "execution_count": 8,
     "metadata": {},
     "output_type": "execute_result"
    }
   ],
   "source": [
    "# CHeck the maximum hind foot measurement\n",
    "hares[\"hindft\"].max()"
   ]
  },
  {
   "cell_type": "code",
   "execution_count": 10,
   "id": "50dc740d-a716-4288-ab2f-459b23e12b5a",
   "metadata": {
    "tags": []
   },
   "outputs": [
    {
     "data": {
      "text/plain": [
       "array([nan, 'M', 'F', '?', 'F?', 'M?', 'pf', 'm', 'f', 'f?', 'm?', 'f ',\n",
       "       'm '], dtype=object)"
      ]
     },
     "execution_count": 10,
     "metadata": {},
     "output_type": "execute_result"
    }
   ],
   "source": [
    "# Look at categorical unique values\n",
    "hares[\"sex\"].unique()"
   ]
  },
  {
   "cell_type": "code",
   "execution_count": 9,
   "id": "bec06367-f730-438a-98b3-89edf2b57775",
   "metadata": {
    "tags": []
   },
   "outputs": [
    {
     "data": {
      "text/plain": [
       "array([nan, 'No right ear tag', 'Escapee', 'Mortality', 'Mortality ',\n",
       "       'Old tag lost in L ear',\n",
       "       'Bunny escaped before second ear tag was added',\n",
       "       'Rabbit too bloody, released', 'R Front Foot Injured',\n",
       "       'L Hind Leg Injured',\n",
       "       'Left Front Foot Injured by Mink. Mink Still Around, Not Shy',\n",
       "       'Injured Bunny, Released, No Tags', 'Died after release',\n",
       "       'Dead in trap', 'Dead', 'non-pregnant',\n",
       "       'pregnant (2 peanut sized babies)', 'pregnant', 'Pregnant',\n",
       "       'Pregnant; last collar was chewed off',\n",
       "       '149.074 recapture; collar loose, removed and replaced; non-pregnant',\n",
       "       'previous collar was chewed off',\n",
       "       '149.013 came off/removed; replaced',\n",
       "       '149.033 recapture; collar loose, removed and replaced',\n",
       "       'previous collar fell off',\n",
       "       'collar previously chewed off (put back on the same bunny!)',\n",
       "       'collar broke off, caught in cage', 'dead in trap',\n",
       "       '149.754 recapture; no VHF signal, removed and replaced',\n",
       "       '149.614 recapture; no VHF signal, removed and replaced',\n",
       "       'tick 19',\n",
       "       '149.474 recapture; low battery, removed collar and replaced',\n",
       "       '149.844 recapture; signal very quiet, removed collar and replaced',\n",
       "       'baby', '149.773 recapture; no VHF signal, removed and replaced',\n",
       "       'tick 18',\n",
       "       'removed GPS collar 151.243 (transmitter dead), trapped N of BONRIP grid',\n",
       "       '149.853 recapture; removed collar and replaced',\n",
       "       'ear punch and blood sample taken', 'ear punch taken',\n",
       "       'blood sample taken',\n",
       "       '149.834 recapture; no signal from transmitter, removed collar; ear punch taken',\n",
       "       'GPS collar',\n",
       "       '149.535 recapture; removed due to injury from overtightening',\n",
       "       'removed iButton that was falling off',\n",
       "       '151.243 GPS recapture; removed collar and replaced with VHF collar',\n",
       "       '150.540 GPS recapture; removed collar',\n",
       "       '151.243 GPS recapture; removed collar',\n",
       "       '150.510 GPS recapture; removed collar',\n",
       "       '150.520 GPS recapture off grid; removed GPS collar and replaced with VHF',\n",
       "       '149.334 recapture; no VHF signal, removed collar and replaced',\n",
       "       '149.874 recapture; no VHF signal, removed collar and replaced',\n",
       "       '149.615 recapture; \"kchunk\" VHF signal, removed collar and replaced',\n",
       "       '149.112 recapture; VHF signal strange, removed collar and replaced',\n",
       "       'no tags until 4/18/11', 'tags given today',\n",
       "       'tons of ticks on ears inside and out, as well as top of head, eyes, etc.',\n",
       "       '149.763 recapture; no signal from transmitter, removed and replaced with 149.802; weird ear growth/scab protruding upward from the ear over an inch! Bloody at base',\n",
       "       'yes, captured the same bunny as in 5a!',\n",
       "       '149.723 recapture; removed and replaced with GPS collar 151.273',\n",
       "       '149.844 recapture; removed and replaced with GPS collar 150.510',\n",
       "       '149.802 recapture; removed and replaced with GPS collar 150.520',\n",
       "       '149.744 recapture; removed and replaced with GPS collar 150.530',\n",
       "       '149.814 recapture; removed and replaced with GPS collar 150.540',\n",
       "       'untagged juvenile', 'escaped without replacing collar',\n",
       "       'untagged juvenile dead in trap',\n",
       "       'GPS antenna still attached to zip tie',\n",
       "       '149.723 removed; foot caught in collar',\n",
       "       '149.814 removed; collar too tight', 'New right ear tag',\n",
       "       'No tags given until 11/6/11',\n",
       "       'Trap overturned with lots of digging; hare seems ok',\n",
       "       'RIGHT LEG INJURED IN TRAP', 'DEAD NEAR TRAP', 'DEAD - UNTAGGED ',\n",
       "       'collar 149.373 fell off since last trapping',\n",
       "       'collar fell off since last trapping', 'removed collar in mouth',\n",
       "       'collar fell off sometime before next capture and was found at 3A',\n",
       "       'bunny escaped; has collar', 'mort', 'No right ear tag given.',\n",
       "       'No right ear tag until 9/8/10.',\n",
       "       'left ear tag fell out later, changed to a3132',\n",
       "       'caught two hares in one trap, let both go',\n",
       "       'previously different left ear tag',\n",
       "       'two collars! (also has 149.013)', 'injured in trap, euthanised',\n",
       "       '149.595 recapture; low batteries, removed and replaced',\n",
       "       'batteries ded',\n",
       "       'trap was moved a bit; tar paper off, ground scuffed up',\n",
       "       'no VHF signal, removed collar',\n",
       "       'diggings around cage (probably lynx); eyes watery',\n",
       "       'blood on nose; extremely docile, but sprinted away with plenty of energy',\n",
       "       '149.373 recapture; no VHF signal, removed collar and replaced',\n",
       "       'died in handling, removed collar',\n",
       "       '149.136 recapture; no VHF signal, removed collar and replaced',\n",
       "       '149.434 recapture; no VHF signal, removed collar and replaced',\n",
       "       '149.795 recapture; no VHF signal, removed collar and replaced',\n",
       "       '149.674 recapture; no VHF signal, removed collar and replaced',\n",
       "       'descended testes',\n",
       "       '149.033 recapture; no VHF signal, removed collar and replaced',\n",
       "       '149.413 recapture; no VHF signal, removed collar and replaced',\n",
       "       '149.393 recapture; no VHF signal, removed collar and replaced',\n",
       "       'wrong tag numbers???', 'lethargic, did not hop away',\n",
       "       \"previously a3210/a3211, but both tags must've fallen out because they were put in with a leatherman!\",\n",
       "       'Hare on verge of death, occasional spastic motion with legs, unable to sit upright. Removed collar.',\n",
       "       'Gave birth to 5 leverets in trap (50, 50, 50, 50, 60 g, all dead) and female near death, removed collar.',\n",
       "       'New, untagged hare. Injured right hind foot (possibly by predator overnight). Let go.',\n",
       "       'Juvenile', 'juvenile',\n",
       "       'Removed thinking it was 149.194 that had expired', 'Collared',\n",
       "       'testes descended', \"thought collar was silent, but it wasn't\",\n",
       "       'lots of ticks, fur patchy and mangy looking',\n",
       "       'cut collar, hare near death, died an hour after release'],\n",
       "      dtype=object)"
      ]
     },
     "execution_count": 9,
     "metadata": {},
     "output_type": "execute_result"
    }
   ],
   "source": [
    "hares[\"notes\"].unique()"
   ]
  },
  {
   "cell_type": "code",
   "execution_count": 19,
   "id": "aa662f96-9623-4fd1-af7a-c0bec7bce2a8",
   "metadata": {
    "tags": []
   },
   "outputs": [
    {
     "data": {
      "text/plain": [
       "age\n",
       "A            564\n",
       "J            267\n",
       "a            183\n",
       "j            128\n",
       "1/2/2013      21\n",
       "1/4/2013      21\n",
       "3/4/2013      18\n",
       "1             12\n",
       "U             11\n",
       "?             10\n",
       "a 3/4 yr.      4\n",
       "2 yrs.         3\n",
       "u              3\n",
       "A 3/4          2\n",
       "1.5            2\n",
       "3.5 yrs.       2\n",
       "2.25 yrs       2\n",
       "1 yr.          2\n",
       "1 yr           2\n",
       "a 1 yr.        2\n",
       "3.25 yrs.      1\n",
       "2.5 yrs        1\n",
       "3 yrs.         1\n",
       "a 2 yrs.       1\n",
       "J 3/4          1\n",
       "2 yrs          1\n",
       "A 1/2          1\n",
       "a 1 yr         1\n",
       "1.25           1\n",
       "A 1.5          1\n",
       "Name: count, dtype: int64"
      ]
     },
     "execution_count": 19,
     "metadata": {},
     "output_type": "execute_result"
    }
   ],
   "source": [
    "\n",
    "hares[\"age\"].value_counts()"
   ]
  },
  {
   "cell_type": "markdown",
   "id": "22c0c064-5a7a-41c6-8405-ecd690935732",
   "metadata": {},
   "source": [
    "## Study question:\n",
    "Is there a corellation between snowshoe hare weight and hind foot size?"
   ]
  },
  {
   "cell_type": "markdown",
   "id": "f2484546-2722-4aee-a6c7-fbfbaf72fa82",
   "metadata": {},
   "source": [
    "| Value      | Description |\n",
    "| ----------- | ----------- |\n",
    "| f      | female       |\n",
    "| m   | male        |\n",
    "| ?   | unconfirmed|\n",
    "| p    | unknown|"
   ]
  },
  {
   "cell_type": "code",
   "execution_count": 20,
   "id": "eeab61f9-12e0-4492-94ab-eac2672456c6",
   "metadata": {
    "tags": []
   },
   "outputs": [
    {
     "data": {
      "text/plain": [
       "sex\n",
       "F     1161\n",
       "M      730\n",
       "f      556\n",
       "m      515\n",
       "?       40\n",
       "F?      10\n",
       "f        4\n",
       "m        4\n",
       "f?       3\n",
       "M?       2\n",
       "m?       2\n",
       "pf       1\n",
       "Name: count, dtype: int64"
      ]
     },
     "execution_count": 20,
     "metadata": {},
     "output_type": "execute_result"
    }
   ],
   "source": [
    "# How many times does each unique value in sex appear?\n",
    "hares[\"sex\"].value_counts()"
   ]
  },
  {
   "cell_type": "code",
   "execution_count": 23,
   "id": "74863fbf-f742-4d02-ba73-79c354504054",
   "metadata": {
    "tags": []
   },
   "outputs": [
    {
     "data": {
      "text/plain": [
       "sex\n",
       "F      1161\n",
       "M       730\n",
       "f       556\n",
       "m       515\n",
       "NaN     352\n",
       "?        40\n",
       "F?       10\n",
       "f         4\n",
       "m         4\n",
       "f?        3\n",
       "M?        2\n",
       "m?        2\n",
       "pf        1\n",
       "Name: count, dtype: int64"
      ]
     },
     "execution_count": 23,
     "metadata": {},
     "output_type": "execute_result"
    }
   ],
   "source": [
    "# Checking number without NAs \n",
    "hares[\"sex\"].value_counts(dropna=False)\n",
    "\n",
    "# 352 NA values"
   ]
  },
  {
   "cell_type": "markdown",
   "id": "7533200a-c8a2-4a05-b3ae-77c98a4e8d19",
   "metadata": {},
   "source": [
    "Exploring 'sex' as a variable:\n",
    "- values in the column do not exactly match the metadata- there are various cominations and capitalizations\n",
    "- cause might be poor data collection training and standardization\n",
    "- There are 4 duplicate rows in the data frame, this might be because of accidental recapture of the same hare multiple times on the same day"
   ]
  },
  {
   "cell_type": "code",
   "execution_count": 30,
   "id": "3a65e08f-227a-48b6-8344-210887588b65",
   "metadata": {
    "tags": []
   },
   "outputs": [
    {
     "data": {
      "text/html": [
       "<div>\n",
       "<style scoped>\n",
       "    .dataframe tbody tr th:only-of-type {\n",
       "        vertical-align: middle;\n",
       "    }\n",
       "\n",
       "    .dataframe tbody tr th {\n",
       "        vertical-align: top;\n",
       "    }\n",
       "\n",
       "    .dataframe thead th {\n",
       "        text-align: right;\n",
       "    }\n",
       "</style>\n",
       "<table border=\"1\" class=\"dataframe\">\n",
       "  <thead>\n",
       "    <tr style=\"text-align: right;\">\n",
       "      <th></th>\n",
       "      <th>date</th>\n",
       "      <th>time</th>\n",
       "      <th>grid</th>\n",
       "      <th>trap</th>\n",
       "      <th>l_ear</th>\n",
       "      <th>r_ear</th>\n",
       "      <th>sex</th>\n",
       "      <th>age</th>\n",
       "      <th>weight</th>\n",
       "      <th>hindft</th>\n",
       "      <th>notes</th>\n",
       "      <th>b_key</th>\n",
       "      <th>session_id</th>\n",
       "      <th>study</th>\n",
       "    </tr>\n",
       "  </thead>\n",
       "  <tbody>\n",
       "    <tr>\n",
       "      <th>2893</th>\n",
       "      <td>7/1/2011</td>\n",
       "      <td>NaN</td>\n",
       "      <td>bonbs</td>\n",
       "      <td>10a</td>\n",
       "      <td>NaN</td>\n",
       "      <td>NaN</td>\n",
       "      <td>NaN</td>\n",
       "      <td>NaN</td>\n",
       "      <td>NaN</td>\n",
       "      <td>NaN</td>\n",
       "      <td>juvenile</td>\n",
       "      <td>NaN</td>\n",
       "      <td>23</td>\n",
       "      <td>Population</td>\n",
       "    </tr>\n",
       "    <tr>\n",
       "      <th>2894</th>\n",
       "      <td>7/1/2011</td>\n",
       "      <td>NaN</td>\n",
       "      <td>bonbs</td>\n",
       "      <td>10a</td>\n",
       "      <td>NaN</td>\n",
       "      <td>NaN</td>\n",
       "      <td>NaN</td>\n",
       "      <td>NaN</td>\n",
       "      <td>NaN</td>\n",
       "      <td>NaN</td>\n",
       "      <td>juvenile</td>\n",
       "      <td>NaN</td>\n",
       "      <td>23</td>\n",
       "      <td>Population</td>\n",
       "    </tr>\n",
       "    <tr>\n",
       "      <th>2895</th>\n",
       "      <td>7/1/2011</td>\n",
       "      <td>NaN</td>\n",
       "      <td>bonbs</td>\n",
       "      <td>10a</td>\n",
       "      <td>NaN</td>\n",
       "      <td>NaN</td>\n",
       "      <td>NaN</td>\n",
       "      <td>NaN</td>\n",
       "      <td>NaN</td>\n",
       "      <td>NaN</td>\n",
       "      <td>juvenile</td>\n",
       "      <td>NaN</td>\n",
       "      <td>23</td>\n",
       "      <td>Population</td>\n",
       "    </tr>\n",
       "    <tr>\n",
       "      <th>3071</th>\n",
       "      <td>9/11/2012</td>\n",
       "      <td>NaN</td>\n",
       "      <td>bonbs</td>\n",
       "      <td>10d</td>\n",
       "      <td>b2834</td>\n",
       "      <td>b2835</td>\n",
       "      <td>f</td>\n",
       "      <td>j</td>\n",
       "      <td>840.0</td>\n",
       "      <td>114.0</td>\n",
       "      <td>NaN</td>\n",
       "      <td>838.0</td>\n",
       "      <td>31</td>\n",
       "      <td>Population</td>\n",
       "    </tr>\n",
       "  </tbody>\n",
       "</table>\n",
       "</div>"
      ],
      "text/plain": [
       "           date time   grid trap  l_ear  r_ear  sex  age  weight  hindft  \\\n",
       "2893   7/1/2011  NaN  bonbs  10a    NaN    NaN  NaN  NaN     NaN     NaN   \n",
       "2894   7/1/2011  NaN  bonbs  10a    NaN    NaN  NaN  NaN     NaN     NaN   \n",
       "2895   7/1/2011  NaN  bonbs  10a    NaN    NaN  NaN  NaN     NaN     NaN   \n",
       "3071  9/11/2012  NaN  bonbs  10d  b2834  b2835    f    j   840.0   114.0   \n",
       "\n",
       "         notes  b_key  session_id       study  \n",
       "2893  juvenile    NaN          23  Population  \n",
       "2894  juvenile    NaN          23  Population  \n",
       "2895  juvenile    NaN          23  Population  \n",
       "3071       NaN  838.0          31  Population  "
      ]
     },
     "execution_count": 30,
     "metadata": {},
     "output_type": "execute_result"
    }
   ],
   "source": [
    "hares[hares.duplicated()]"
   ]
  },
  {
   "cell_type": "markdown",
   "id": "c9c1d71e-9811-4b96-bef3-26f519a12823",
   "metadata": {},
   "source": [
    "Instructions for wrangling\n",
    "1. Gather hares sex column\n",
    "2. Use function `replace()` to reassign values in column to standard name\n",
    "3. f and F = female, m and M = male, ? = unknown"
   ]
  },
  {
   "cell_type": "code",
   "execution_count": 31,
   "id": "1d8e3784-a61c-4faf-b717-4aeb7479d8d0",
   "metadata": {
    "tags": []
   },
   "outputs": [],
   "source": [
    "# Set conditions to select from\n",
    "conditions = [\n",
    "    (hares['sex'].isin(['m', 'M', 'm_'])),\n",
    "    (hares['sex'].isin(['f', 'F', 'f_']))\n",
    "]\n",
    "\n",
    "# Set choices corresponding to array\n",
    "choices = ['male', 'female']\n",
    "\n",
    "# Otherwise, sex is \"unknown\"\n",
    "default = 'unknown'\n",
    "\n",
    "# Use `np.select()` to index through sex column and make a new col with outputs\n",
    "hares['sex_simple'] = np.select(conditions, choices, default = default)"
   ]
  },
  {
   "cell_type": "code",
   "execution_count": 33,
   "id": "09dbfdfe-62f7-437c-a27a-0291fad22908",
   "metadata": {
    "tags": []
   },
   "outputs": [
    {
     "data": {
      "text/plain": [
       "sex_simple\n",
       "female     1717\n",
       "male       1245\n",
       "unknown     418\n",
       "Name: count, dtype: int64"
      ]
     },
     "execution_count": 33,
     "metadata": {},
     "output_type": "execute_result"
    }
   ],
   "source": [
    "# Check that this worked and we only have our desired values\n",
    "hares['sex_simple'].value_counts()"
   ]
  },
  {
   "cell_type": "code",
   "execution_count": 37,
   "id": "d6a11b75-c4c9-41af-996a-91e0f05bc96e",
   "metadata": {
    "tags": []
   },
   "outputs": [
    {
     "data": {
      "text/html": [
       "<div>\n",
       "<style scoped>\n",
       "    .dataframe tbody tr th:only-of-type {\n",
       "        vertical-align: middle;\n",
       "    }\n",
       "\n",
       "    .dataframe tbody tr th {\n",
       "        vertical-align: top;\n",
       "    }\n",
       "\n",
       "    .dataframe thead th {\n",
       "        text-align: right;\n",
       "    }\n",
       "</style>\n",
       "<table border=\"1\" class=\"dataframe\">\n",
       "  <thead>\n",
       "    <tr style=\"text-align: right;\">\n",
       "      <th></th>\n",
       "      <th>weight</th>\n",
       "      <th>hindft</th>\n",
       "      <th>b_key</th>\n",
       "      <th>session_id</th>\n",
       "    </tr>\n",
       "    <tr>\n",
       "      <th>sex_simple</th>\n",
       "      <th></th>\n",
       "      <th></th>\n",
       "      <th></th>\n",
       "      <th></th>\n",
       "    </tr>\n",
       "  </thead>\n",
       "  <tbody>\n",
       "    <tr>\n",
       "      <th>female</th>\n",
       "      <td>1366.920372</td>\n",
       "      <td>131.011161</td>\n",
       "      <td>482.617407</td>\n",
       "      <td>57.755970</td>\n",
       "    </tr>\n",
       "    <tr>\n",
       "      <th>male</th>\n",
       "      <td>1352.145553</td>\n",
       "      <td>133.383010</td>\n",
       "      <td>490.851406</td>\n",
       "      <td>49.228112</td>\n",
       "    </tr>\n",
       "    <tr>\n",
       "      <th>unknown</th>\n",
       "      <td>1176.511111</td>\n",
       "      <td>103.469697</td>\n",
       "      <td>615.119681</td>\n",
       "      <td>46.576555</td>\n",
       "    </tr>\n",
       "  </tbody>\n",
       "</table>\n",
       "</div>"
      ],
      "text/plain": [
       "                 weight      hindft       b_key  session_id\n",
       "sex_simple                                                 \n",
       "female      1366.920372  131.011161  482.617407   57.755970\n",
       "male        1352.145553  133.383010  490.851406   49.228112\n",
       "unknown     1176.511111  103.469697  615.119681   46.576555"
      ]
     },
     "execution_count": 37,
     "metadata": {},
     "output_type": "execute_result"
    }
   ],
   "source": [
    "# Calculate mean weight by sex \n",
    "hares.groupby(\"sex_simple\").mean(\"weight\")"
   ]
  },
  {
   "cell_type": "markdown",
   "id": "ba170886-cb38-4870-9dbd-748623873322",
   "metadata": {},
   "source": [
    "The mean weight of female rabbits was the largest at 1,366 g, where males averaged 1,352 g, and unsexed hares were an average 1,176 g"
   ]
  },
  {
   "cell_type": "code",
   "execution_count": null,
   "id": "44af89a8-08d3-4444-b1aa-960916d80027",
   "metadata": {},
   "outputs": [],
   "source": [
    "# Streamlined workflow \n",
    "\n",
    "# Import libraries\n",
    "import pandas as pd\n",
    "import numpy as np\n",
    "\n",
    "# Read in hares data\n",
    "hares = pd.read_csv(\"https://pasta.lternet.edu/package/data/eml/knb-lter-bnz/55/22/f01f5d71be949b8c700b6ecd1c42c701\")\n",
    "\n",
    "# Number of rows and cols\n",
    "hares.shape\n",
    "\n",
    "# Checking number without NAs \n",
    "hares[\"sex\"].value_counts(dropna=False)\n",
    "\n",
    "\n",
    "# Set conditions to select from\n",
    "conditions = [\n",
    "    (hares['sex'].isin(['m', 'M', 'm_'])),\n",
    "    (hares['sex'].isin(['f', 'F', 'f_']))\n",
    "]\n",
    "\n",
    "# Set choices corresponding to array\n",
    "choices = ['male', 'female']\n",
    "\n",
    "# Otherwise, sex is \"unknown\"\n",
    "default = 'unknown'\n",
    "\n",
    "# Use `np.select()` to index through sex column and make a new col with outputs\n",
    "hares['sex_simple'] = np.select(conditions, choices, default = default)\n",
    "\n",
    "# Calculate mean weight by sex \n",
    "hares.groupby(\"sex_simple\").mean(\"weight\")"
   ]
  }
 ],
 "metadata": {
  "kernelspec": {
   "display_name": "EDS220",
   "language": "python",
   "name": "eds220-env"
  },
  "language_info": {
   "codemirror_mode": {
    "name": "ipython",
    "version": 3
   },
   "file_extension": ".py",
   "mimetype": "text/x-python",
   "name": "python",
   "nbconvert_exporter": "python",
   "pygments_lexer": "ipython3",
   "version": "3.11.4"
  }
 },
 "nbformat": 4,
 "nbformat_minor": 5
}
